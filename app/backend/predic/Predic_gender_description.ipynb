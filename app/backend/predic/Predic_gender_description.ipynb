{
 "cells": [
  {
   "cell_type": "markdown",
   "id": "5d441446",
   "metadata": {},
   "source": [
    "# Prédiction du genre par rapport à la description du film\n",
    "\n",
    "Ici; nous allons nous essayer de prédir le genre d'un film par rapport à sa description\n",
    "\n",
    "Pour cela, nous utilisons le dataset fourni  IMDB_movies.csv.\n",
    "\n",
    "Nous allons suivre les étapes suivantes :\n",
    "- importer les librairies nécessaires\n",
    "- charger les données\n",
    "- exploration des données et pre-processing\n",
    "- conversion du texte \n",
    "- construction du modèle\n",
    "- création d'une fonction d'inférence"
   ]
  },
  {
   "cell_type": "markdown",
   "id": "5906f540",
   "metadata": {},
   "source": [
    "# Librairies nécessaires"
   ]
  },
  {
   "cell_type": "code",
   "execution_count": 1,
   "id": "cd16ec11",
   "metadata": {},
   "outputs": [],
   "source": [
    "import pandas as pd\n",
    "import numpy as np\n",
    "import json\n",
    "import nltk\n",
    "import re\n",
    "import csv\n",
    "import matplotlib.pyplot as plt \n",
    "import seaborn as sns\n",
    "from tqdm import tqdm\n",
    "from sklearn.feature_extraction.text import TfidfVectorizer\n",
    "from sklearn.model_selection import train_test_split\n",
    "\n",
    "%matplotlib inline\n",
    "pd.set_option('display.max_colwidth', 300)"
   ]
  },
  {
   "cell_type": "markdown",
   "id": "c993acb8",
   "metadata": {},
   "source": [
    "# Charger les données\n",
    "\n",
    "Chargeons d’abord les métadonnées du film qui se trouve dans le fichier IMDB_movies.csv "
   ]
  },
  {
   "cell_type": "code",
   "execution_count": 2,
   "id": "e63be660",
   "metadata": {},
   "outputs": [
    {
     "data": {
      "text/html": [
       "<div>\n",
       "<style scoped>\n",
       "    .dataframe tbody tr th:only-of-type {\n",
       "        vertical-align: middle;\n",
       "    }\n",
       "\n",
       "    .dataframe tbody tr th {\n",
       "        vertical-align: top;\n",
       "    }\n",
       "\n",
       "    .dataframe thead th {\n",
       "        text-align: right;\n",
       "    }\n",
       "</style>\n",
       "<table border=\"1\" class=\"dataframe\">\n",
       "  <thead>\n",
       "    <tr style=\"text-align: right;\">\n",
       "      <th></th>\n",
       "      <th>imdb_title_id</th>\n",
       "      <th>title</th>\n",
       "      <th>original_title</th>\n",
       "      <th>year</th>\n",
       "      <th>date_published</th>\n",
       "      <th>genre</th>\n",
       "      <th>duration</th>\n",
       "      <th>country</th>\n",
       "      <th>language</th>\n",
       "      <th>director</th>\n",
       "      <th>...</th>\n",
       "      <th>actors</th>\n",
       "      <th>description</th>\n",
       "      <th>avg_vote</th>\n",
       "      <th>votes</th>\n",
       "      <th>budget</th>\n",
       "      <th>usa_gross_income</th>\n",
       "      <th>worlwide_gross_income</th>\n",
       "      <th>metascore</th>\n",
       "      <th>reviews_from_users</th>\n",
       "      <th>reviews_from_critics</th>\n",
       "    </tr>\n",
       "  </thead>\n",
       "  <tbody>\n",
       "    <tr>\n",
       "      <th>0</th>\n",
       "      <td>tt0000574</td>\n",
       "      <td>The Story of the Kelly Gang</td>\n",
       "      <td>The Story of the Kelly Gang</td>\n",
       "      <td>1906</td>\n",
       "      <td>1906-12-26</td>\n",
       "      <td>Biography, Crime, Drama</td>\n",
       "      <td>70</td>\n",
       "      <td>Australia</td>\n",
       "      <td>NaN</td>\n",
       "      <td>Charles Tait</td>\n",
       "      <td>...</td>\n",
       "      <td>Elizabeth Tait, John Tait, Norman Campbell, Bella Cola, Will Coyne, Sam Crewes, Jack Ennis, John Forde, Vera Linden, Mr. Marshall, Mr. McKenzie, Frank Mills, Ollie Wilson</td>\n",
       "      <td>True story of notorious Australian outlaw Ned Kelly (1855-80).</td>\n",
       "      <td>6.1</td>\n",
       "      <td>537</td>\n",
       "      <td>$ 2250</td>\n",
       "      <td>NaN</td>\n",
       "      <td>NaN</td>\n",
       "      <td>NaN</td>\n",
       "      <td>7.0</td>\n",
       "      <td>7.0</td>\n",
       "    </tr>\n",
       "    <tr>\n",
       "      <th>1</th>\n",
       "      <td>tt0001892</td>\n",
       "      <td>Den sorte drøm</td>\n",
       "      <td>Den sorte drøm</td>\n",
       "      <td>1911</td>\n",
       "      <td>1911-08-19</td>\n",
       "      <td>Drama</td>\n",
       "      <td>53</td>\n",
       "      <td>Germany, Denmark</td>\n",
       "      <td>NaN</td>\n",
       "      <td>Urban Gad</td>\n",
       "      <td>...</td>\n",
       "      <td>Asta Nielsen, Valdemar Psilander, Gunnar Helsengreen, Emil Albes, Hugo Flink, Mary Hagen</td>\n",
       "      <td>Two men of high rank are both wooing the beautiful and famous equestrian acrobat Stella. While Stella ignores the jeweler Hirsch, she accepts Count von Waldberg's offer to follow her home, ...</td>\n",
       "      <td>5.9</td>\n",
       "      <td>171</td>\n",
       "      <td>NaN</td>\n",
       "      <td>NaN</td>\n",
       "      <td>NaN</td>\n",
       "      <td>NaN</td>\n",
       "      <td>4.0</td>\n",
       "      <td>2.0</td>\n",
       "    </tr>\n",
       "    <tr>\n",
       "      <th>2</th>\n",
       "      <td>tt0002101</td>\n",
       "      <td>Cleopatra</td>\n",
       "      <td>Cleopatra</td>\n",
       "      <td>1912</td>\n",
       "      <td>1912-11-13</td>\n",
       "      <td>Drama, History</td>\n",
       "      <td>100</td>\n",
       "      <td>USA</td>\n",
       "      <td>English</td>\n",
       "      <td>Charles L. Gaskill</td>\n",
       "      <td>...</td>\n",
       "      <td>Helen Gardner, Pearl Sindelar, Miss Fielding, Miss Robson, Helene Costello, Charles Sindelar, Mr. Howard, James R. Waite, Mr. Osborne, Harry Knowles, Mr. Paul, Mr. Brady, Mr. Corker</td>\n",
       "      <td>The fabled queen of Egypt's affair with Roman general Marc Antony is ulimately disastrous for both of them.</td>\n",
       "      <td>5.2</td>\n",
       "      <td>420</td>\n",
       "      <td>$ 45000</td>\n",
       "      <td>NaN</td>\n",
       "      <td>NaN</td>\n",
       "      <td>NaN</td>\n",
       "      <td>24.0</td>\n",
       "      <td>3.0</td>\n",
       "    </tr>\n",
       "    <tr>\n",
       "      <th>3</th>\n",
       "      <td>tt0002130</td>\n",
       "      <td>L'Inferno</td>\n",
       "      <td>L'Inferno</td>\n",
       "      <td>1911</td>\n",
       "      <td>1911-03-06</td>\n",
       "      <td>Adventure, Drama, Fantasy</td>\n",
       "      <td>68</td>\n",
       "      <td>Italy</td>\n",
       "      <td>Italian</td>\n",
       "      <td>Francesco Bertolini, Adolfo Padovan</td>\n",
       "      <td>...</td>\n",
       "      <td>Salvatore Papa, Arturo Pirovano, Giuseppe de Liguoro, Pier Delle Vigne, Augusto Milla, Attilio Motta, Emilise Beretta</td>\n",
       "      <td>Loosely adapted from Dante's Divine Comedy and inspired by the illustrations of Gustav Doré the original silent film has been restored and has a new score by Tangerine Dream.</td>\n",
       "      <td>7.0</td>\n",
       "      <td>2019</td>\n",
       "      <td>NaN</td>\n",
       "      <td>NaN</td>\n",
       "      <td>NaN</td>\n",
       "      <td>NaN</td>\n",
       "      <td>28.0</td>\n",
       "      <td>14.0</td>\n",
       "    </tr>\n",
       "    <tr>\n",
       "      <th>4</th>\n",
       "      <td>tt0002199</td>\n",
       "      <td>From the Manger to the Cross; or, Jesus of Nazareth</td>\n",
       "      <td>From the Manger to the Cross; or, Jesus of Nazareth</td>\n",
       "      <td>1912</td>\n",
       "      <td>1913</td>\n",
       "      <td>Biography, Drama</td>\n",
       "      <td>60</td>\n",
       "      <td>USA</td>\n",
       "      <td>English</td>\n",
       "      <td>Sidney Olcott</td>\n",
       "      <td>...</td>\n",
       "      <td>R. Henderson Bland, Percy Dyer, Gene Gauntier, Alice Hollister, Samuel Morgan, James D. Ainsley, Robert G. Vignola, George Kellog, J.P. McGowan</td>\n",
       "      <td>An account of the life of Jesus Christ, based on the books of the New Testament: After Jesus' birth is foretold to his parents, he is born in Bethlehem, and is visited by shepherds and wise...</td>\n",
       "      <td>5.7</td>\n",
       "      <td>438</td>\n",
       "      <td>NaN</td>\n",
       "      <td>NaN</td>\n",
       "      <td>NaN</td>\n",
       "      <td>NaN</td>\n",
       "      <td>12.0</td>\n",
       "      <td>5.0</td>\n",
       "    </tr>\n",
       "  </tbody>\n",
       "</table>\n",
       "<p>5 rows × 22 columns</p>\n",
       "</div>"
      ],
      "text/plain": [
       "  imdb_title_id                                                title  \\\n",
       "0     tt0000574                          The Story of the Kelly Gang   \n",
       "1     tt0001892                                       Den sorte drøm   \n",
       "2     tt0002101                                            Cleopatra   \n",
       "3     tt0002130                                            L'Inferno   \n",
       "4     tt0002199  From the Manger to the Cross; or, Jesus of Nazareth   \n",
       "\n",
       "                                        original_title  year date_published  \\\n",
       "0                          The Story of the Kelly Gang  1906     1906-12-26   \n",
       "1                                       Den sorte drøm  1911     1911-08-19   \n",
       "2                                            Cleopatra  1912     1912-11-13   \n",
       "3                                            L'Inferno  1911     1911-03-06   \n",
       "4  From the Manger to the Cross; or, Jesus of Nazareth  1912           1913   \n",
       "\n",
       "                       genre  duration           country language  \\\n",
       "0    Biography, Crime, Drama        70         Australia      NaN   \n",
       "1                      Drama        53  Germany, Denmark      NaN   \n",
       "2             Drama, History       100               USA  English   \n",
       "3  Adventure, Drama, Fantasy        68             Italy  Italian   \n",
       "4           Biography, Drama        60               USA  English   \n",
       "\n",
       "                              director  ...  \\\n",
       "0                         Charles Tait  ...   \n",
       "1                            Urban Gad  ...   \n",
       "2                   Charles L. Gaskill  ...   \n",
       "3  Francesco Bertolini, Adolfo Padovan  ...   \n",
       "4                        Sidney Olcott  ...   \n",
       "\n",
       "                                                                                                                                                                                  actors  \\\n",
       "0             Elizabeth Tait, John Tait, Norman Campbell, Bella Cola, Will Coyne, Sam Crewes, Jack Ennis, John Forde, Vera Linden, Mr. Marshall, Mr. McKenzie, Frank Mills, Ollie Wilson   \n",
       "1                                                                                               Asta Nielsen, Valdemar Psilander, Gunnar Helsengreen, Emil Albes, Hugo Flink, Mary Hagen   \n",
       "2  Helen Gardner, Pearl Sindelar, Miss Fielding, Miss Robson, Helene Costello, Charles Sindelar, Mr. Howard, James R. Waite, Mr. Osborne, Harry Knowles, Mr. Paul, Mr. Brady, Mr. Corker   \n",
       "3                                                                  Salvatore Papa, Arturo Pirovano, Giuseppe de Liguoro, Pier Delle Vigne, Augusto Milla, Attilio Motta, Emilise Beretta   \n",
       "4                                        R. Henderson Bland, Percy Dyer, Gene Gauntier, Alice Hollister, Samuel Morgan, James D. Ainsley, Robert G. Vignola, George Kellog, J.P. McGowan   \n",
       "\n",
       "                                                                                                                                                                                        description  \\\n",
       "0                                                                                                                                    True story of notorious Australian outlaw Ned Kelly (1855-80).   \n",
       "1  Two men of high rank are both wooing the beautiful and famous equestrian acrobat Stella. While Stella ignores the jeweler Hirsch, she accepts Count von Waldberg's offer to follow her home, ...   \n",
       "2                                                                                       The fabled queen of Egypt's affair with Roman general Marc Antony is ulimately disastrous for both of them.   \n",
       "3                    Loosely adapted from Dante's Divine Comedy and inspired by the illustrations of Gustav Doré the original silent film has been restored and has a new score by Tangerine Dream.   \n",
       "4  An account of the life of Jesus Christ, based on the books of the New Testament: After Jesus' birth is foretold to his parents, he is born in Bethlehem, and is visited by shepherds and wise...   \n",
       "\n",
       "  avg_vote votes   budget  usa_gross_income worlwide_gross_income metascore  \\\n",
       "0      6.1   537   $ 2250               NaN                   NaN       NaN   \n",
       "1      5.9   171      NaN               NaN                   NaN       NaN   \n",
       "2      5.2   420  $ 45000               NaN                   NaN       NaN   \n",
       "3      7.0  2019      NaN               NaN                   NaN       NaN   \n",
       "4      5.7   438      NaN               NaN                   NaN       NaN   \n",
       "\n",
       "  reviews_from_users  reviews_from_critics  \n",
       "0                7.0                   7.0  \n",
       "1                4.0                   2.0  \n",
       "2               24.0                   3.0  \n",
       "3               28.0                  14.0  \n",
       "4               12.0                   5.0  \n",
       "\n",
       "[5 rows x 22 columns]"
      ]
     },
     "execution_count": 2,
     "metadata": {},
     "output_type": "execute_result"
    }
   ],
   "source": [
    "dataset = pd.read_csv(\"../files/IMDB_movies.csv\") \n",
    "\n",
    "dataset.head()"
   ]
  },
  {
   "cell_type": "markdown",
   "id": "c7e1e020",
   "metadata": {},
   "source": [
    "Maintenant, nous allons créer un autre ensemble de données avec l'id du poster et sa description. C'est ce qui nous intéresse ici."
   ]
  },
  {
   "cell_type": "code",
   "execution_count": 3,
   "id": "4b261006",
   "metadata": {},
   "outputs": [
    {
     "data": {
      "text/html": [
       "<div>\n",
       "<style scoped>\n",
       "    .dataframe tbody tr th:only-of-type {\n",
       "        vertical-align: middle;\n",
       "    }\n",
       "\n",
       "    .dataframe tbody tr th {\n",
       "        vertical-align: top;\n",
       "    }\n",
       "\n",
       "    .dataframe thead th {\n",
       "        text-align: right;\n",
       "    }\n",
       "</style>\n",
       "<table border=\"1\" class=\"dataframe\">\n",
       "  <thead>\n",
       "    <tr style=\"text-align: right;\">\n",
       "      <th></th>\n",
       "      <th>imdb_title_id</th>\n",
       "      <th>description</th>\n",
       "    </tr>\n",
       "  </thead>\n",
       "  <tbody>\n",
       "    <tr>\n",
       "      <th>0</th>\n",
       "      <td>tt0000574</td>\n",
       "      <td>True story of notorious Australian outlaw Ned Kelly (1855-80).</td>\n",
       "    </tr>\n",
       "    <tr>\n",
       "      <th>1</th>\n",
       "      <td>tt0001892</td>\n",
       "      <td>Two men of high rank are both wooing the beautiful and famous equestrian acrobat Stella. While Stella ignores the jeweler Hirsch, she accepts Count von Waldberg's offer to follow her home, ...</td>\n",
       "    </tr>\n",
       "    <tr>\n",
       "      <th>2</th>\n",
       "      <td>tt0002101</td>\n",
       "      <td>The fabled queen of Egypt's affair with Roman general Marc Antony is ulimately disastrous for both of them.</td>\n",
       "    </tr>\n",
       "    <tr>\n",
       "      <th>3</th>\n",
       "      <td>tt0002130</td>\n",
       "      <td>Loosely adapted from Dante's Divine Comedy and inspired by the illustrations of Gustav Doré the original silent film has been restored and has a new score by Tangerine Dream.</td>\n",
       "    </tr>\n",
       "    <tr>\n",
       "      <th>4</th>\n",
       "      <td>tt0002199</td>\n",
       "      <td>An account of the life of Jesus Christ, based on the books of the New Testament: After Jesus' birth is foretold to his parents, he is born in Bethlehem, and is visited by shepherds and wise...</td>\n",
       "    </tr>\n",
       "  </tbody>\n",
       "</table>\n",
       "</div>"
      ],
      "text/plain": [
       "  imdb_title_id  \\\n",
       "0     tt0000574   \n",
       "1     tt0001892   \n",
       "2     tt0002101   \n",
       "3     tt0002130   \n",
       "4     tt0002199   \n",
       "\n",
       "                                                                                                                                                                                        description  \n",
       "0                                                                                                                                    True story of notorious Australian outlaw Ned Kelly (1855-80).  \n",
       "1  Two men of high rank are both wooing the beautiful and famous equestrian acrobat Stella. While Stella ignores the jeweler Hirsch, she accepts Count von Waldberg's offer to follow her home, ...  \n",
       "2                                                                                       The fabled queen of Egypt's affair with Roman general Marc Antony is ulimately disastrous for both of them.  \n",
       "3                    Loosely adapted from Dante's Divine Comedy and inspired by the illustrations of Gustav Doré the original silent film has been restored and has a new score by Tangerine Dream.  \n",
       "4  An account of the life of Jesus Christ, based on the books of the New Testament: After Jesus' birth is foretold to his parents, he is born in Bethlehem, and is visited by shepherds and wise...  "
      ]
     },
     "execution_count": 3,
     "metadata": {},
     "output_type": "execute_result"
    }
   ],
   "source": [
    "movie_id=[]\n",
    "description=[]\n",
    "length = len(dataset)\n",
    "\n",
    "for i in range(0,length):\n",
    "    movie_id.append(dataset.loc[i][\"imdb_title_id\"])\n",
    "    description.append(dataset.loc[i][\"description\"])\n",
    "    \n",
    "movies = pd.DataFrame({'imdb_title_id': movie_id, 'description': description})\n",
    "\n",
    "movies.head()"
   ]
  },
  {
   "cell_type": "markdown",
   "id": "d6212621",
   "metadata": {},
   "source": [
    "# Exploration des données et Pre-processing\n",
    "\n",
    "Nous allons ajouter les noms des films et leurs genres à partir du dataset en fusionnant ce dernier avec movies basé sur la colonne imdb_title_id."
   ]
  },
  {
   "cell_type": "code",
   "execution_count": 4,
   "id": "f45bdfc0",
   "metadata": {},
   "outputs": [
    {
     "data": {
      "text/html": [
       "<div>\n",
       "<style scoped>\n",
       "    .dataframe tbody tr th:only-of-type {\n",
       "        vertical-align: middle;\n",
       "    }\n",
       "\n",
       "    .dataframe tbody tr th {\n",
       "        vertical-align: top;\n",
       "    }\n",
       "\n",
       "    .dataframe thead th {\n",
       "        text-align: right;\n",
       "    }\n",
       "</style>\n",
       "<table border=\"1\" class=\"dataframe\">\n",
       "  <thead>\n",
       "    <tr style=\"text-align: right;\">\n",
       "      <th></th>\n",
       "      <th>imdb_title_id</th>\n",
       "      <th>description</th>\n",
       "      <th>title</th>\n",
       "      <th>genre</th>\n",
       "    </tr>\n",
       "  </thead>\n",
       "  <tbody>\n",
       "    <tr>\n",
       "      <th>0</th>\n",
       "      <td>tt0000574</td>\n",
       "      <td>True story of notorious Australian outlaw Ned Kelly (1855-80).</td>\n",
       "      <td>The Story of the Kelly Gang</td>\n",
       "      <td>Biography, Crime, Drama</td>\n",
       "    </tr>\n",
       "    <tr>\n",
       "      <th>1</th>\n",
       "      <td>tt0001892</td>\n",
       "      <td>Two men of high rank are both wooing the beautiful and famous equestrian acrobat Stella. While Stella ignores the jeweler Hirsch, she accepts Count von Waldberg's offer to follow her home, ...</td>\n",
       "      <td>Den sorte drøm</td>\n",
       "      <td>Drama</td>\n",
       "    </tr>\n",
       "    <tr>\n",
       "      <th>2</th>\n",
       "      <td>tt0002101</td>\n",
       "      <td>The fabled queen of Egypt's affair with Roman general Marc Antony is ulimately disastrous for both of them.</td>\n",
       "      <td>Cleopatra</td>\n",
       "      <td>Drama, History</td>\n",
       "    </tr>\n",
       "    <tr>\n",
       "      <th>3</th>\n",
       "      <td>tt0002130</td>\n",
       "      <td>Loosely adapted from Dante's Divine Comedy and inspired by the illustrations of Gustav Doré the original silent film has been restored and has a new score by Tangerine Dream.</td>\n",
       "      <td>L'Inferno</td>\n",
       "      <td>Adventure, Drama, Fantasy</td>\n",
       "    </tr>\n",
       "    <tr>\n",
       "      <th>4</th>\n",
       "      <td>tt0002199</td>\n",
       "      <td>An account of the life of Jesus Christ, based on the books of the New Testament: After Jesus' birth is foretold to his parents, he is born in Bethlehem, and is visited by shepherds and wise...</td>\n",
       "      <td>From the Manger to the Cross; or, Jesus of Nazareth</td>\n",
       "      <td>Biography, Drama</td>\n",
       "    </tr>\n",
       "  </tbody>\n",
       "</table>\n",
       "</div>"
      ],
      "text/plain": [
       "  imdb_title_id  \\\n",
       "0     tt0000574   \n",
       "1     tt0001892   \n",
       "2     tt0002101   \n",
       "3     tt0002130   \n",
       "4     tt0002199   \n",
       "\n",
       "                                                                                                                                                                                        description  \\\n",
       "0                                                                                                                                    True story of notorious Australian outlaw Ned Kelly (1855-80).   \n",
       "1  Two men of high rank are both wooing the beautiful and famous equestrian acrobat Stella. While Stella ignores the jeweler Hirsch, she accepts Count von Waldberg's offer to follow her home, ...   \n",
       "2                                                                                       The fabled queen of Egypt's affair with Roman general Marc Antony is ulimately disastrous for both of them.   \n",
       "3                    Loosely adapted from Dante's Divine Comedy and inspired by the illustrations of Gustav Doré the original silent film has been restored and has a new score by Tangerine Dream.   \n",
       "4  An account of the life of Jesus Christ, based on the books of the New Testament: After Jesus' birth is foretold to his parents, he is born in Bethlehem, and is visited by shepherds and wise...   \n",
       "\n",
       "                                                 title  \\\n",
       "0                          The Story of the Kelly Gang   \n",
       "1                                       Den sorte drøm   \n",
       "2                                            Cleopatra   \n",
       "3                                            L'Inferno   \n",
       "4  From the Manger to the Cross; or, Jesus of Nazareth   \n",
       "\n",
       "                       genre  \n",
       "0    Biography, Crime, Drama  \n",
       "1                      Drama  \n",
       "2             Drama, History  \n",
       "3  Adventure, Drama, Fantasy  \n",
       "4           Biography, Drama  "
      ]
     },
     "execution_count": 4,
     "metadata": {},
     "output_type": "execute_result"
    }
   ],
   "source": [
    "# merge dataset with movies\n",
    "movies = pd.merge(movies, dataset[['imdb_title_id', 'title', 'genre']], on = 'imdb_title_id')\n",
    "\n",
    "movies.head()"
   ]
  },
  {
   "cell_type": "markdown",
   "id": "1575e005",
   "metadata": {},
   "source": [
    "Ensuite, nous avons ajouté les noms et les genres des films. \n",
    "Cependant, les genres sont du type string. Il sera plus facile de travailler avec une liste. \n",
    "C'est pourquoi nous allons créer une nouvelle colonne genre_new de type liste contenant les genres du film."
   ]
  },
  {
   "cell_type": "code",
   "execution_count": 5,
   "id": "03bbdf0b",
   "metadata": {},
   "outputs": [
    {
     "data": {
      "text/plain": [
       "str"
      ]
     },
     "execution_count": 5,
     "metadata": {},
     "output_type": "execute_result"
    }
   ],
   "source": [
    "type((movies['genre'][0]))"
   ]
  },
  {
   "cell_type": "code",
   "execution_count": 6,
   "id": "fdfdc6ec",
   "metadata": {},
   "outputs": [],
   "source": [
    "genres = []\n",
    "\n",
    "for i in movies['genre']:\n",
    "    genres.append(i.split(r\", \"))\n",
    "\n",
    "\n",
    "movies['genre_new'] = genres"
   ]
  },
  {
   "cell_type": "markdown",
   "id": "48194369",
   "metadata": {},
   "source": [
    "Certains échantillons pourraient ne contenir aucune étiquette de genre. Par conséquent, nous devrions retirer ces échantillons car ils n’aideront pas beaucoup dans la construction de modèles."
   ]
  },
  {
   "cell_type": "code",
   "execution_count": 7,
   "id": "0fd712b6",
   "metadata": {},
   "outputs": [],
   "source": [
    "# remove samples with 0 genre tags\n",
    "movies_new = movies[~(movies['genre_new'].str.len() == 0)]"
   ]
  },
  {
   "cell_type": "code",
   "execution_count": 8,
   "id": "7e6940c4",
   "metadata": {},
   "outputs": [
    {
     "data": {
      "text/plain": [
       "((81273, 5), (81273, 5))"
      ]
     },
     "execution_count": 8,
     "metadata": {},
     "output_type": "execute_result"
    }
   ],
   "source": [
    "movies_new.shape, movies.shape"
   ]
  },
  {
   "cell_type": "markdown",
   "id": "f6974818",
   "metadata": {},
   "source": [
    "On constate qu'il n'y a pas d'échantillons ne contenant aucune étiquette de genre. \n",
    "Vérifions encore une fois le dataframe."
   ]
  },
  {
   "cell_type": "code",
   "execution_count": 9,
   "id": "476a3f01",
   "metadata": {},
   "outputs": [
    {
     "data": {
      "text/html": [
       "<div>\n",
       "<style scoped>\n",
       "    .dataframe tbody tr th:only-of-type {\n",
       "        vertical-align: middle;\n",
       "    }\n",
       "\n",
       "    .dataframe tbody tr th {\n",
       "        vertical-align: top;\n",
       "    }\n",
       "\n",
       "    .dataframe thead th {\n",
       "        text-align: right;\n",
       "    }\n",
       "</style>\n",
       "<table border=\"1\" class=\"dataframe\">\n",
       "  <thead>\n",
       "    <tr style=\"text-align: right;\">\n",
       "      <th></th>\n",
       "      <th>imdb_title_id</th>\n",
       "      <th>description</th>\n",
       "      <th>title</th>\n",
       "      <th>genre</th>\n",
       "      <th>genre_new</th>\n",
       "    </tr>\n",
       "  </thead>\n",
       "  <tbody>\n",
       "    <tr>\n",
       "      <th>0</th>\n",
       "      <td>tt0000574</td>\n",
       "      <td>True story of notorious Australian outlaw Ned Kelly (1855-80).</td>\n",
       "      <td>The Story of the Kelly Gang</td>\n",
       "      <td>Biography, Crime, Drama</td>\n",
       "      <td>[Biography, Crime, Drama]</td>\n",
       "    </tr>\n",
       "    <tr>\n",
       "      <th>1</th>\n",
       "      <td>tt0001892</td>\n",
       "      <td>Two men of high rank are both wooing the beautiful and famous equestrian acrobat Stella. While Stella ignores the jeweler Hirsch, she accepts Count von Waldberg's offer to follow her home, ...</td>\n",
       "      <td>Den sorte drøm</td>\n",
       "      <td>Drama</td>\n",
       "      <td>[Drama]</td>\n",
       "    </tr>\n",
       "    <tr>\n",
       "      <th>2</th>\n",
       "      <td>tt0002101</td>\n",
       "      <td>The fabled queen of Egypt's affair with Roman general Marc Antony is ulimately disastrous for both of them.</td>\n",
       "      <td>Cleopatra</td>\n",
       "      <td>Drama, History</td>\n",
       "      <td>[Drama, History]</td>\n",
       "    </tr>\n",
       "    <tr>\n",
       "      <th>3</th>\n",
       "      <td>tt0002130</td>\n",
       "      <td>Loosely adapted from Dante's Divine Comedy and inspired by the illustrations of Gustav Doré the original silent film has been restored and has a new score by Tangerine Dream.</td>\n",
       "      <td>L'Inferno</td>\n",
       "      <td>Adventure, Drama, Fantasy</td>\n",
       "      <td>[Adventure, Drama, Fantasy]</td>\n",
       "    </tr>\n",
       "    <tr>\n",
       "      <th>4</th>\n",
       "      <td>tt0002199</td>\n",
       "      <td>An account of the life of Jesus Christ, based on the books of the New Testament: After Jesus' birth is foretold to his parents, he is born in Bethlehem, and is visited by shepherds and wise...</td>\n",
       "      <td>From the Manger to the Cross; or, Jesus of Nazareth</td>\n",
       "      <td>Biography, Drama</td>\n",
       "      <td>[Biography, Drama]</td>\n",
       "    </tr>\n",
       "  </tbody>\n",
       "</table>\n",
       "</div>"
      ],
      "text/plain": [
       "  imdb_title_id  \\\n",
       "0     tt0000574   \n",
       "1     tt0001892   \n",
       "2     tt0002101   \n",
       "3     tt0002130   \n",
       "4     tt0002199   \n",
       "\n",
       "                                                                                                                                                                                        description  \\\n",
       "0                                                                                                                                    True story of notorious Australian outlaw Ned Kelly (1855-80).   \n",
       "1  Two men of high rank are both wooing the beautiful and famous equestrian acrobat Stella. While Stella ignores the jeweler Hirsch, she accepts Count von Waldberg's offer to follow her home, ...   \n",
       "2                                                                                       The fabled queen of Egypt's affair with Roman general Marc Antony is ulimately disastrous for both of them.   \n",
       "3                    Loosely adapted from Dante's Divine Comedy and inspired by the illustrations of Gustav Doré the original silent film has been restored and has a new score by Tangerine Dream.   \n",
       "4  An account of the life of Jesus Christ, based on the books of the New Testament: After Jesus' birth is foretold to his parents, he is born in Bethlehem, and is visited by shepherds and wise...   \n",
       "\n",
       "                                                 title  \\\n",
       "0                          The Story of the Kelly Gang   \n",
       "1                                       Den sorte drøm   \n",
       "2                                            Cleopatra   \n",
       "3                                            L'Inferno   \n",
       "4  From the Manger to the Cross; or, Jesus of Nazareth   \n",
       "\n",
       "                       genre                    genre_new  \n",
       "0    Biography, Crime, Drama    [Biography, Crime, Drama]  \n",
       "1                      Drama                      [Drama]  \n",
       "2             Drama, History             [Drama, History]  \n",
       "3  Adventure, Drama, Fantasy  [Adventure, Drama, Fantasy]  \n",
       "4           Biography, Drama           [Biography, Drama]  "
      ]
     },
     "execution_count": 9,
     "metadata": {},
     "output_type": "execute_result"
    }
   ],
   "source": [
    "movies_new.head()"
   ]
  },
  {
   "cell_type": "markdown",
   "id": "e4025ddc",
   "metadata": {},
   "source": [
    "Les genres sont maintenant dans le format de liste qui va être utile puisque nous devrons accéder à ces balises de genre plus tard.\n",
    "\n",
    "Pour savoir le nombre de genres de films qu'il y a dans ce jeu de données, on utilise le code suivant :"
   ]
  },
  {
   "cell_type": "code",
   "execution_count": 51,
   "id": "d054a017",
   "metadata": {},
   "outputs": [
    {
     "data": {
      "text/plain": [
       "26"
      ]
     },
     "execution_count": 51,
     "metadata": {},
     "output_type": "execute_result"
    }
   ],
   "source": [
    "# get all genre tags in a list\n",
    "all_genres = sum(genres,[])\n",
    "len(set(all_genres))"
   ]
  },
  {
   "cell_type": "markdown",
   "id": "bca5e347",
   "metadata": {},
   "source": [
    "Il y a 26 balises de genre uniques dans notre ensemble de données.\n",
    "\n",
    "Voyons de plus près ce que sont ces étiquettes. Nous utiliserons FreqDist( ) de la bibliothèque nltk pour créer un dictionnaire des genres et leur nombre d’occurences dans l’ensemble de données."
   ]
  },
  {
   "cell_type": "code",
   "execution_count": 11,
   "id": "945e3af2",
   "metadata": {},
   "outputs": [],
   "source": [
    "all_genres = nltk.FreqDist(all_genres)\n",
    "all_genres_df = pd.DataFrame({'Genre': list(all_genres.keys()), 'Count': list(all_genres.values())})"
   ]
  },
  {
   "cell_type": "markdown",
   "id": "a29e5cf9",
   "metadata": {},
   "source": [
    "Nous allons visualiser l'ensemble des données."
   ]
  },
  {
   "cell_type": "code",
   "execution_count": 12,
   "id": "d23a1113",
   "metadata": {},
   "outputs": [
    {
     "data": {
      "image/png": "[encoded data removed]",
      "text/plain": [
       "<Figure size 864x1080 with 1 Axes>"
      ]
     },
     "metadata": {
      "needs_background": "light"
     },
     "output_type": "display_data"
    }
   ],
   "source": [
    "g = all_genres_df.nlargest(columns=\"Count\", n = 50) \n",
    "plt.figure(figsize=(12,15))\n",
    "ax = sns.barplot(data=g, x= \"Count\", y = \"Genre\")\n",
    "ax.set(ylabel = 'Count')\n",
    "plt.show()"
   ]
  },
  {
   "cell_type": "markdown",
   "id": "2898b2de",
   "metadata": {},
   "source": [
    "Comme prévu, les tags les plus fréquents sont \"Drama\", \"Comedy\", \"Romance\", \"Action\", et \"Thriller\". Le reste des genres dans les données proviennent d’une façon ou d’une autre des cinq principaux genres.\n",
    "\n",
    "Ainsi, maintenant nous pouvons décider si nous voulons travailler avec un certain nombre de genres les plus fréquents ou tous les genres. Ici, nous allons considérer tous les genres (soit 26).\n",
    "\n",
    "Ensuite, nous allons nettoyer les descriptions des films. Je vais utiliser quelques étapes de nettoyage de texte très simples car ce n’est pas le domaine d’intérêt de cet article."
   ]
  },
  {
   "cell_type": "code",
   "execution_count": 13,
   "id": "dad92d68",
   "metadata": {},
   "outputs": [],
   "source": [
    "# function for text cleaning\n",
    "def clean_text(text):\n",
    "    # remove backslash-apostrophe\n",
    "    text = re.sub(\"\\'\", \"\", text)\n",
    "    # remove everything alphabets\n",
    "    text = re.sub(\"[^a-zA-Z]\",\" \",text)\n",
    "    # remove whitespaces\n",
    "    text = ' '.join(text.split())\n",
    "    # convert text to lowercase\n",
    "    text = text.lower()\n",
    "    \n",
    "    return text"
   ]
  },
  {
   "cell_type": "markdown",
   "id": "47fd2e30",
   "metadata": {},
   "source": [
    "Appliquons cette fonction sur les descriptions des films."
   ]
  },
  {
   "cell_type": "code",
   "execution_count": 14,
   "id": "5d44002e",
   "metadata": {},
   "outputs": [],
   "source": [
    "length_movies = len(movies_new)\n",
    "clean_desc =[]\n",
    "\n",
    "for i in range(0,length):\n",
    "    txt = str(movies_new.loc[i][\"description\"])\n",
    "    clean_desc.append(clean_text(txt))\n",
    "\n",
    "movies_new[\"clean_desc\"]=clean_desc"
   ]
  },
  {
   "cell_type": "markdown",
   "id": "b86902d0",
   "metadata": {},
   "source": [
    "Ici, nous allons vérifier quelques échantillons aléatoires."
   ]
  },
  {
   "cell_type": "code",
   "execution_count": 52,
   "id": "2a7f974f",
   "metadata": {},
   "outputs": [
    {
     "data": {
      "text/html": [
       "<div>\n",
       "<style scoped>\n",
       "    .dataframe tbody tr th:only-of-type {\n",
       "        vertical-align: middle;\n",
       "    }\n",
       "\n",
       "    .dataframe tbody tr th {\n",
       "        vertical-align: top;\n",
       "    }\n",
       "\n",
       "    .dataframe thead th {\n",
       "        text-align: right;\n",
       "    }\n",
       "</style>\n",
       "<table border=\"1\" class=\"dataframe\">\n",
       "  <thead>\n",
       "    <tr style=\"text-align: right;\">\n",
       "      <th></th>\n",
       "      <th>description</th>\n",
       "      <th>clean_desc</th>\n",
       "    </tr>\n",
       "  </thead>\n",
       "  <tbody>\n",
       "    <tr>\n",
       "      <th>80548</th>\n",
       "      <td>A man makes a decision that alters generations, and must suffer great consequences that reach beyond this lifetime.</td>\n",
       "      <td>man makes decision alters generations must suffer great consequences reach beyond lifetime</td>\n",
       "    </tr>\n",
       "    <tr>\n",
       "      <th>28313</th>\n",
       "      <td>Police Inspector Jay Bakshi has been assigned the task of aprpehending gangsters affiliated to notorious criminal don, Raj Solanki. Assisting him in this task is his sweetheart, Inspector ...</td>\n",
       "      <td>police inspector jay bakshi assigned task aprpehending gangsters affiliated notorious criminal raj solanki assisting task sweetheart inspector</td>\n",
       "    </tr>\n",
       "    <tr>\n",
       "      <th>21579</th>\n",
       "      <td>The German professor tries out his time machine in Turkey. Everybody is after this new invention - Superman Detective Murat, his cheating colleagues Atak and Matrak as well as the mob ...</td>\n",
       "      <td>german professor tries time machine turkey everybody new invention superman detective murat cheating colleagues atak matrak well mob</td>\n",
       "    </tr>\n",
       "  </tbody>\n",
       "</table>\n",
       "</div>"
      ],
      "text/plain": [
       "                                                                                                                                                                                           description  \\\n",
       "80548                                                                              A man makes a decision that alters generations, and must suffer great consequences that reach beyond this lifetime.   \n",
       "28313  Police Inspector Jay Bakshi has been assigned the task of aprpehending gangsters affiliated to notorious criminal don, Raj Solanki. Assisting him in this task is his sweetheart, Inspector ...   \n",
       "21579      The German professor tries out his time machine in Turkey. Everybody is after this new invention - Superman Detective Murat, his cheating colleagues Atak and Matrak as well as the mob ...   \n",
       "\n",
       "                                                                                                                                           clean_desc  \n",
       "80548                                                      man makes decision alters generations must suffer great consequences reach beyond lifetime  \n",
       "28313  police inspector jay bakshi assigned task aprpehending gangsters affiliated notorious criminal raj solanki assisting task sweetheart inspector  \n",
       "21579            german professor tries time machine turkey everybody new invention superman detective murat cheating colleagues atak matrak well mob  "
      ]
     },
     "execution_count": 52,
     "metadata": {},
     "output_type": "execute_result"
    }
   ],
   "source": [
    "movies_new[['description', 'clean_desc']].sample(3)"
   ]
  },
  {
   "cell_type": "markdown",
   "id": "3e2efc08",
   "metadata": {},
   "source": [
    "On constate que dans la colonne clean_desc, il n'y a pas de signe de ponctuation et le texte est en minuscule. Ainsi, notre nettoyage de texte a bien fonctionné. \n",
    "\n",
    "La fonction ci-contre permet de visualiser les mots avec leurs fréquences. Nous allons l'utiliser pour découvire les mots les plus fréquents dans les intrigues de film."
   ]
  },
  {
   "cell_type": "code",
   "execution_count": 68,
   "id": "47c8936e",
   "metadata": {},
   "outputs": [],
   "source": [
    "def freq_words(x, terms = 30):\n",
    "  all_words = ' '.join([text for text in x])\n",
    "  all_words = all_words.split()\n",
    "  \n",
    "  fdist = nltk.FreqDist(all_words)\n",
    "  words_df = pd.DataFrame({'word':list(fdist.keys()), 'count':list(fdist.values())})\n",
    "  \n",
    "  # selecting top 20 most frequent words\n",
    "  d = words_df.nlargest(columns=\"count\", n = terms) \n",
    "  plt.figure(figsize=(12,15))\n",
    "  ax = sns.barplot(data=d, x= \"count\", y = \"word\")\n",
    "  ax.set(ylabel = 'Word')\n",
    "  plt.show()"
   ]
  },
  {
   "cell_type": "code",
   "execution_count": 69,
   "id": "0f65d239",
   "metadata": {},
   "outputs": [
    {
     "data": {
      "image/png": "[encoded data removed]",
      "text/plain": [
       "<Figure size 864x1080 with 1 Axes>"
      ]
     },
     "metadata": {
      "needs_background": "light"
     },
     "output_type": "display_data"
    }
   ],
   "source": [
    "# print 100 most frequent words\n",
    "freq_words(movies_new['clean_desc'], 100)"
   ]
  },
  {
   "cell_type": "markdown",
   "id": "e75000cf",
   "metadata": {},
   "source": [
    "Nous constatons que la plupart des termes de l'intrigue sont des stopwords. Ces stopwords ont une signification moins importante que d'autres mot-clés dans le texte. Du coup, nous allons les supprimer du texte. Pour cela, il faut dans un premier temps télécharger la liste des stopwords à partir de la bibliothèque nltk."
   ]
  },
  {
   "cell_type": "code",
   "execution_count": 21,
   "id": "5dcdf2dc",
   "metadata": {},
   "outputs": [
    {
     "name": "stderr",
     "output_type": "stream",
     "text": [
      "[nltk_data] Downloading package stopwords to /Users/lyne/nltk_data...\n",
      "[nltk_data]   Unzipping corpora/stopwords.zip.\n"
     ]
    },
    {
     "data": {
      "text/plain": [
       "True"
      ]
     },
     "execution_count": 21,
     "metadata": {},
     "output_type": "execute_result"
    }
   ],
   "source": [
    "nltk.download('stopwords')"
   ]
  },
  {
   "cell_type": "markdown",
   "id": "5d1d6dcf",
   "metadata": {},
   "source": [
    "Maintenant, nous allons supprimer tous les stopwords."
   ]
  },
  {
   "cell_type": "code",
   "execution_count": 22,
   "id": "9a39f805",
   "metadata": {},
   "outputs": [],
   "source": [
    "from nltk.corpus import stopwords\n",
    "stop_words = set(stopwords.words('english'))\n",
    "\n",
    "# function to remove stopwords\n",
    "def remove_stopwords(text):\n",
    "    no_stopword_text = [w for w in text.split() if not w in stop_words]\n",
    "    return ' '.join(no_stopword_text)\n",
    "  \n",
    "movies_new['clean_desc'] = movies_new['clean_desc'].apply(lambda x: remove_stopwords(x))"
   ]
  },
  {
   "cell_type": "markdown",
   "id": "dee530a1",
   "metadata": {},
   "source": [
    "Nous allons vérifier les mots les plus fréquents après la suppression des stopwords"
   ]
  },
  {
   "cell_type": "code",
   "execution_count": 23,
   "id": "cabc31d2",
   "metadata": {},
   "outputs": [
    {
     "data": {
      "image/png": "[encoded data removed]",
      "text/plain": [
       "<Figure size 864x1080 with 1 Axes>"
      ]
     },
     "metadata": {
      "needs_background": "light"
     },
     "output_type": "display_data"
    }
   ],
   "source": [
    "freq_words(movies_new['clean_desc'], 100)"
   ]
  },
  {
   "cell_type": "markdown",
   "id": "ec06856a",
   "metadata": {},
   "source": [
    "Il s’avère que les mots les plus intéressants sont \"young\", \"life\", \"man\" et bien d’autres."
   ]
  },
  {
   "cell_type": "markdown",
   "id": "56fce937",
   "metadata": {},
   "source": [
    "# Conversion du texte en fonction\n",
    "\n",
    "\n",
    "Nous allons traiter ce problème de classification multilabel comme un problème de pertinence binaire. Par consqéuent, nous allons maintenant encoder la variable cible, genre_new en utilisant le MultiLabelBinarizer() de sklearn. Puisqu'il y a 26 balises de genre uniques, il va y avoir 26 nouvelles variables cibles."
   ]
  },
  {
   "cell_type": "code",
   "execution_count": 25,
   "id": "5e4f6b92",
   "metadata": {},
   "outputs": [],
   "source": [
    "from sklearn.preprocessing import MultiLabelBinarizer\n",
    "\n",
    "multilabel_binarizer = MultiLabelBinarizer()\n",
    "multilabel_binarizer.fit(movies_new['genre_new'])\n",
    "\n",
    "# transform target variable\n",
    "y = multilabel_binarizer.transform(movies_new['genre_new'])"
   ]
  },
  {
   "cell_type": "markdown",
   "id": "e81797e9",
   "metadata": {},
   "source": [
    "Nous avons réussi à transformer la variable cible et maintenant nous concentrer sur l'extraction de caractéristiques à partir de la version nettoyée des descriptions de films. Nous avons décidé d'utiliser les caractéristiques TF-IDF. \n",
    "Il existe d'autre méthodes d'extraction comme Bag-of-Words, word2vec, GloVe, or ELMo."
   ]
  },
  {
   "cell_type": "code",
   "execution_count": 53,
   "id": "e29510a7",
   "metadata": {},
   "outputs": [],
   "source": [
    "tfidf_vectorizer = TfidfVectorizer(max_df=0.8, max_features=10000)"
   ]
  },
  {
   "cell_type": "markdown",
   "id": "8b567e78",
   "metadata": {},
   "source": [
    "Nous avons utilisé les 10 000 mots les plus fréquents dans les données comme caractéristiques. Vous pouvez essayer tout autre nombre pour le paramètre max_features. \n",
    "\n",
    "Avant de créer les caractéristiques TF-IDF, nous allons diviser nos données en ensembles d'entrainement et de validation pour la formation et l'évaluation des performances, respectivement. \n",
    "\n",
    "80% des échantillons de données ont été conservés dans l'ensemble d'entrainement et le reste des données est dans l'ensemble de validation."
   ]
  },
  {
   "cell_type": "code",
   "execution_count": 27,
   "id": "32cc8a32",
   "metadata": {},
   "outputs": [],
   "source": [
    "# split dataset into training and validation set\n",
    "xtrain, xval, ytrain, yval = train_test_split(movies_new['clean_desc'], y, test_size=0.2, random_state=9)"
   ]
  },
  {
   "cell_type": "markdown",
   "id": "e0b53118",
   "metadata": {},
   "source": [
    "Maintenant, nous pouvons créer des fonctionnalités pour l'ensemble d'entrainement et de validation."
   ]
  },
  {
   "cell_type": "code",
   "execution_count": 28,
   "id": "719d6f44",
   "metadata": {},
   "outputs": [],
   "source": [
    "# create TF-IDF features\n",
    "xtrain_tfidf = tfidf_vectorizer.fit_transform(xtrain)\n",
    "xval_tfidf = tfidf_vectorizer.transform(xval)"
   ]
  },
  {
   "cell_type": "markdown",
   "id": "11d91608",
   "metadata": {},
   "source": [
    "# Construction du modèle de prédiction\n",
    "\n",
    "Nous utilisons donc l'approche de la pertinence binaire pour résoudre un problème multilabel, ainsi nous devons encoder la variable cible et ensuite contruire un modèle pour chaque variable cible. Puisque nous avons 26 variables cibles, nous devrons adapter 26 modèles différents avec le même ensemble de prédicteurs (caractéristique de la TF-IDF)."
   ]
  },
  {
   "cell_type": "code",
   "execution_count": 29,
   "id": "31802314",
   "metadata": {},
   "outputs": [],
   "source": [
    "from sklearn.linear_model import LogisticRegression\n",
    "\n",
    "# Binary Relevance\n",
    "from sklearn.multiclass import OneVsRestClassifier\n",
    "\n",
    "# Performance metric\n",
    "from sklearn.metrics import f1_score"
   ]
  },
  {
   "cell_type": "markdown",
   "id": "e63c7e73",
   "metadata": {},
   "source": [
    "Nous allons utiliser la classe OneVsRestClassifier pour résoudre ce problème."
   ]
  },
  {
   "cell_type": "code",
   "execution_count": 30,
   "id": "5c50a60b",
   "metadata": {},
   "outputs": [],
   "source": [
    "lr = LogisticRegression()\n",
    "clf = OneVsRestClassifier(lr)"
   ]
  },
  {
   "cell_type": "markdown",
   "id": "1d36d564",
   "metadata": {},
   "source": [
    "Enfin, nous allons adapter notre modèle sur l'ensemble d'entrainement."
   ]
  },
  {
   "cell_type": "code",
   "execution_count": 31,
   "id": "f970e0e2",
   "metadata": {},
   "outputs": [
    {
     "name": "stderr",
     "output_type": "stream",
     "text": [
      "/Users/lyne/opt/anaconda3/lib/python3.9/site-packages/sklearn/linear_model/_logistic.py:814: ConvergenceWarning: lbfgs failed to converge (status=1):\n",
      "STOP: TOTAL NO. of ITERATIONS REACHED LIMIT.\n",
      "\n",
      "Increase the number of iterations (max_iter) or scale the data as shown in:\n",
      "    https://scikit-learn.org/stable/modules/preprocessing.html\n",
      "Please also refer to the documentation for alternative solver options:\n",
      "    https://scikit-learn.org/stable/modules/linear_model.html#logistic-regression\n",
      "  n_iter_i = _check_optimize_result(\n",
      "/Users/lyne/opt/anaconda3/lib/python3.9/site-packages/sklearn/linear_model/_logistic.py:814: ConvergenceWarning: lbfgs failed to converge (status=1):\n",
      "STOP: TOTAL NO. of ITERATIONS REACHED LIMIT.\n",
      "\n",
      "Increase the number of iterations (max_iter) or scale the data as shown in:\n",
      "    https://scikit-learn.org/stable/modules/preprocessing.html\n",
      "Please also refer to the documentation for alternative solver options:\n",
      "    https://scikit-learn.org/stable/modules/linear_model.html#logistic-regression\n",
      "  n_iter_i = _check_optimize_result(\n",
      "/Users/lyne/opt/anaconda3/lib/python3.9/site-packages/sklearn/linear_model/_logistic.py:814: ConvergenceWarning: lbfgs failed to converge (status=1):\n",
      "STOP: TOTAL NO. of ITERATIONS REACHED LIMIT.\n",
      "\n",
      "Increase the number of iterations (max_iter) or scale the data as shown in:\n",
      "    https://scikit-learn.org/stable/modules/preprocessing.html\n",
      "Please also refer to the documentation for alternative solver options:\n",
      "    https://scikit-learn.org/stable/modules/linear_model.html#logistic-regression\n",
      "  n_iter_i = _check_optimize_result(\n",
      "/Users/lyne/opt/anaconda3/lib/python3.9/site-packages/sklearn/linear_model/_logistic.py:814: ConvergenceWarning: lbfgs failed to converge (status=1):\n",
      "STOP: TOTAL NO. of ITERATIONS REACHED LIMIT.\n",
      "\n",
      "Increase the number of iterations (max_iter) or scale the data as shown in:\n",
      "    https://scikit-learn.org/stable/modules/preprocessing.html\n",
      "Please also refer to the documentation for alternative solver options:\n",
      "    https://scikit-learn.org/stable/modules/linear_model.html#logistic-regression\n",
      "  n_iter_i = _check_optimize_result(\n",
      "/Users/lyne/opt/anaconda3/lib/python3.9/site-packages/sklearn/linear_model/_logistic.py:814: ConvergenceWarning: lbfgs failed to converge (status=1):\n",
      "STOP: TOTAL NO. of ITERATIONS REACHED LIMIT.\n",
      "\n",
      "Increase the number of iterations (max_iter) or scale the data as shown in:\n",
      "    https://scikit-learn.org/stable/modules/preprocessing.html\n",
      "Please also refer to the documentation for alternative solver options:\n",
      "    https://scikit-learn.org/stable/modules/linear_model.html#logistic-regression\n",
      "  n_iter_i = _check_optimize_result(\n",
      "/Users/lyne/opt/anaconda3/lib/python3.9/site-packages/sklearn/linear_model/_logistic.py:814: ConvergenceWarning: lbfgs failed to converge (status=1):\n",
      "STOP: TOTAL NO. of ITERATIONS REACHED LIMIT.\n",
      "\n",
      "Increase the number of iterations (max_iter) or scale the data as shown in:\n",
      "    https://scikit-learn.org/stable/modules/preprocessing.html\n",
      "Please also refer to the documentation for alternative solver options:\n",
      "    https://scikit-learn.org/stable/modules/linear_model.html#logistic-regression\n",
      "  n_iter_i = _check_optimize_result(\n"
     ]
    },
    {
     "data": {
      "text/plain": [
       "OneVsRestClassifier(estimator=LogisticRegression())"
      ]
     },
     "execution_count": 31,
     "metadata": {},
     "output_type": "execute_result"
    }
   ],
   "source": [
    "# fit model on train data\n",
    "clf.fit(xtrain_tfidf, ytrain)"
   ]
  },
  {
   "cell_type": "markdown",
   "id": "2fe7719c",
   "metadata": {},
   "source": [
    "Une fois que notre modèle est formé, nous pouvons prédire les genres de films pour l’ensemble de validation. \n",
    "\n",
    "Faisons-le."
   ]
  },
  {
   "cell_type": "code",
   "execution_count": 32,
   "id": "92d34a3f",
   "metadata": {},
   "outputs": [],
   "source": [
    "# make predictions for validation set\n",
    "y_pred = clf.predict(xval_tfidf)"
   ]
  },
  {
   "cell_type": "markdown",
   "id": "bd9543fe",
   "metadata": {},
   "source": [
    "Vérifions une prédiction."
   ]
  },
  {
   "cell_type": "code",
   "execution_count": 33,
   "id": "a5b713e0",
   "metadata": {},
   "outputs": [
    {
     "data": {
      "text/plain": [
       "array([0, 0, 0, 0, 0, 1, 0, 0, 1, 0, 0, 0, 0, 0, 0, 0, 0, 0, 0, 0, 0, 0,\n",
       "       0, 0, 0, 0])"
      ]
     },
     "execution_count": 33,
     "metadata": {},
     "output_type": "execute_result"
    }
   ],
   "source": [
    "y_pred[3]"
   ]
  },
  {
   "cell_type": "markdown",
   "id": "3fc723ea",
   "metadata": {},
   "source": [
    "C’est un tableau binaire unidimensionnel de longueur 26. Fondamentalement, c’est la forme encodée. \n",
    "Ainsi, nous devons utiliser la fonction inverse_transform() avec l’objet MultiLabelBinarizer() de la bibliothèque sklearn pour convertir le tableau prédit en étiquettes de genre de film. ."
   ]
  },
  {
   "cell_type": "code",
   "execution_count": 47,
   "id": "4cec8df0",
   "metadata": {},
   "outputs": [
    {
     "data": {
      "text/plain": [
       "('Comedy', 'Drama')"
      ]
     },
     "execution_count": 47,
     "metadata": {},
     "output_type": "execute_result"
    }
   ],
   "source": [
    "multilabel_binarizer.inverse_transform(y_pred)[3]"
   ]
  },
  {
   "cell_type": "markdown",
   "id": "094d79ae",
   "metadata": {},
   "source": [
    "Nous allons évaluer la performance de notre modèle pour cela nous devons tenir compte de toutes les prévisions et la variable cible de l'ensemble de validation."
   ]
  },
  {
   "cell_type": "code",
   "execution_count": 35,
   "id": "71073355",
   "metadata": {},
   "outputs": [
    {
     "data": {
      "text/plain": [
       "0.4910070900063752"
      ]
     },
     "execution_count": 35,
     "metadata": {},
     "output_type": "execute_result"
    }
   ],
   "source": [
    " # evaluate performance\n",
    "f1_score(yval, y_pred, average=\"micro\")"
   ]
  },
  {
   "cell_type": "markdown",
   "id": "1c17107a",
   "metadata": {},
   "source": [
    "Nous obtenons un score F1 décent de 0,491. Ces prédictions ont été faites sur la base d'une valeur seuil de 0,5, ce qui signifie que les probabilités supérieures ou égales à 0,5 ont été converties en 1 et les autres en 0. Essayons de modifier cette valeur seuil et voyons si cela aide notre modèle."
   ]
  },
  {
   "cell_type": "code",
   "execution_count": 36,
   "id": "4876d40e",
   "metadata": {},
   "outputs": [],
   "source": [
    "# predict probabilities\n",
    "y_pred_prob = clf.predict_proba(xval_tfidf)"
   ]
  },
  {
   "cell_type": "markdown",
   "id": "133e9876",
   "metadata": {},
   "source": [
    "Maintenant, définissez une autre valeur seuil."
   ]
  },
  {
   "cell_type": "code",
   "execution_count": 66,
   "id": "6d8b4012",
   "metadata": {},
   "outputs": [],
   "source": [
    "t = 0.3 # threshold value\n",
    "y_pred_new = (y_pred_prob >= t).astype(int)"
   ]
  },
  {
   "cell_type": "markdown",
   "id": "f4e7e372",
   "metadata": {},
   "source": [
    "Nous avons essayé 0,3 comme valeur seuil. Nous pouvons également essayer toute autre valeur. Vérifions à nouveau le score F1 sur ces nouvelles prédictions"
   ]
  },
  {
   "cell_type": "code",
   "execution_count": 67,
   "id": "72703c69",
   "metadata": {},
   "outputs": [
    {
     "data": {
      "text/plain": [
       "0.5753197044773461"
      ]
     },
     "execution_count": 67,
     "metadata": {},
     "output_type": "execute_result"
    }
   ],
   "source": [
    "# evaluate performance\n",
    "f1_score(yval, y_pred_new, average=\"micro\")"
   ]
  },
  {
   "cell_type": "markdown",
   "id": "644cf3fe",
   "metadata": {},
   "source": [
    "Les performances s'en trouvent considérablement améliorées. Une meilleure approche pour trouver la bonne valeur de seuil serait d'utiliser une configuration de validation croisée k-fold et d'essayer différentes valeurs de seuil."
   ]
  },
  {
   "cell_type": "markdown",
   "id": "cb11b0cf",
   "metadata": {},
   "source": [
    "# Création d'une fonction d'inférence\n",
    "\n",
    "\n",
    "Maintenant que nous avons entraîné notre modèle et que nous avons également fait des prédictions pour l'ensemble de validation. Cependant, nous devons également prendre en compte les nouvelles données ou les nouvelles séquences de films qui arriveront dans le futur. \n",
    "\n",
    "Notre système de prédiction de genre de film doit être capable de prendre une intrigue de film sous forme brute en entrée et fournir ses étiquettes de genre en sortie.\n",
    "\n",
    "Pour cela, nous allons construire une fonction d'inférence. <br>\n",
    "Elle prendra en entrée une descritpion de film et suivra les étapes suivantes :\n",
    "- Nettoyer le texte \n",
    "- Supprimer les stopwords\n",
    "- Extraire les caractéristiques du texte \n",
    "- Faire des prédictions\n",
    "- Retouurne les étiquettes de genre de film prédites"
   ]
  },
  {
   "cell_type": "code",
   "execution_count": 39,
   "id": "f25d30f1",
   "metadata": {},
   "outputs": [],
   "source": [
    "def infer_tags(q):\n",
    "    q = clean_text(q)\n",
    "    q = remove_stopwords(q)\n",
    "    q_vec = tfidf_vectorizer.transform([q])\n",
    "    q_pred = clf.predict(q_vec)\n",
    "    return multilabel_binarizer.inverse_transform(q_pred)"
   ]
  },
  {
   "cell_type": "markdown",
   "id": "31bcd640",
   "metadata": {},
   "source": [
    "Testons cette fonction d’inférence sur quelques échantillons de l’ensemble de validation."
   ]
  },
  {
   "cell_type": "code",
   "execution_count": 50,
   "id": "87941ab3",
   "metadata": {},
   "outputs": [
    {
     "name": "stdout",
     "output_type": "stream",
     "text": [
      "Movie:  Not with My Wife, You Don't! \n",
      "Predicted genre:  [('Drama', 'Romance')]\n",
      "Actual genre:  ['Comedy'] \n",
      "\n",
      "Movie:  Bienvenido a casa \n",
      "Predicted genre:  [('Drama',)]\n",
      "Actual genre:  ['Comedy', 'Drama', 'Romance'] \n",
      "\n",
      "Movie:  Fallen \n",
      "Predicted genre:  [('Comedy', 'Drama')]\n",
      "Actual genre:  ['Drama'] \n",
      "\n",
      "Movie:  Stolen Hours \n",
      "Predicted genre:  [('Drama',)]\n",
      "Actual genre:  ['Drama'] \n",
      "\n",
      "Movie:  Adventures of Rusty \n",
      "Predicted genre:  [('Drama',)]\n",
      "Actual genre:  ['Drama', 'Family'] \n",
      "\n"
     ]
    }
   ],
   "source": [
    "for i in range(5):\n",
    "    k = xval.sample(1).index[0]\n",
    "    print(\"Movie: \", movies_new['title'][k], \"\\nPredicted genre: \", infer_tags(xval[k])), print(\"Actual genre: \",movies_new['genre_new'][k],\"\\n\")"
   ]
  }
 ],
 "metadata": {
  "kernelspec": {
   "display_name": "Python 3 (ipykernel)",
   "language": "python",
   "name": "python3"
  },
  "language_info": {
   "codemirror_mode": {
    "name": "ipython",
    "version": 3
   },
   "file_extension": ".py",
   "mimetype": "text/x-python",
   "name": "python",
   "nbconvert_exporter": "python",
   "pygments_lexer": "ipython3",
   "version": "3.9.12"
  }
 },
 "nbformat": 4,
 "nbformat_minor": 5
}
